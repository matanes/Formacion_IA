{
  "nbformat": 4,
  "nbformat_minor": 0,
  "metadata": {
    "colab": {
      "provenance": [],
      "authorship_tag": "ABX9TyMsp0ehRBRr/AZuHJrZI2zR",
      "include_colab_link": true
    },
    "kernelspec": {
      "name": "python3",
      "display_name": "Python 3"
    },
    "language_info": {
      "name": "python"
    }
  },
  "cells": [
    {
      "cell_type": "markdown",
      "metadata": {
        "id": "view-in-github",
        "colab_type": "text"
      },
      "source": [
        "<a href=\"https://colab.research.google.com/github/matanes/Formacion_IA/blob/MiPrimeraRama/Practica4.ipynb\" target=\"_parent\"><img src=\"https://colab.research.google.com/assets/colab-badge.svg\" alt=\"Open In Colab\"/></a>"
      ]
    },
    {
      "cell_type": "code",
      "execution_count": null,
      "metadata": {
        "colab": {
          "base_uri": "https://localhost:8080/"
        },
        "id": "ZcPABmsSPlbN",
        "outputId": "a7c63e1a-8e23-4e30-f28f-a3ef6daed6d7"
      },
      "outputs": [
        {
          "output_type": "stream",
          "name": "stdout",
          "text": [
            "Hola amijosss\n"
          ]
        }
      ],
      "source": [
        "print(\"Hola amijosss\")"
      ]
    },
    {
      "cell_type": "code",
      "source": [
        "print(\"adios amijosss\")"
      ],
      "metadata": {
        "colab": {
          "base_uri": "https://localhost:8080/"
        },
        "id": "7BaoNgs5Uxb_",
        "outputId": "a21d1dc3-64c4-4212-ed58-886342c9874b"
      },
      "execution_count": 2,
      "outputs": [
        {
          "output_type": "stream",
          "name": "stdout",
          "text": [
            "adios amijosss\n"
          ]
        }
      ]
    }
  ]
}